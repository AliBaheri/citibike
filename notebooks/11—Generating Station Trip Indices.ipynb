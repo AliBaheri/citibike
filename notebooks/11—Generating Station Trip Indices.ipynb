{
 "cells": [
  {
   "cell_type": "markdown",
   "metadata": {},
   "source": [
    "# Indexing by Station\n",
    "\n",
    "While I am storing data on the level of *trips*, I need to access it on the level of *stations*. Since the search strategy for determining which bikes correspond with which stations is complex, and would require a full scan of the data, I need to speed this up by precomputing an index.\n",
    "\n",
    "I already did that work in `08` and `09` while generating counts of things, so I just reuse that code here."
   ]
  },
  {
   "cell_type": "code",
   "execution_count": 1,
   "metadata": {
    "collapsed": true
   },
   "outputs": [],
   "source": [
    "import pandas as pd\n",
    "import numpy as np\n",
    "import matplotlib.pyplot as plt\n",
    "%matplotlib inline\n",
    "import seaborn as sns\n",
    "import requests\n",
    "import io\n",
    "import zipfile\n",
    "from tqdm import tqdm"
   ]
  },
  {
   "cell_type": "code",
   "execution_count": 2,
   "metadata": {
    "collapsed": true
   },
   "outputs": [],
   "source": [
    "stations = pd.read_csv(\"../data/final/june_22_station_metadata.csv\", index_col=0)"
   ]
  },
  {
   "cell_type": "code",
   "execution_count": 3,
   "metadata": {
    "collapsed": true
   },
   "outputs": [],
   "source": [
    "june_22 = pd.read_csv(\"../data/final/all_june_22_citibike_trips.csv\", index_col=0)"
   ]
  },
  {
   "cell_type": "markdown",
   "metadata": {},
   "source": [
    "## Outbound bike trips\n",
    "\n",
    "The following cell generates a dict of stations by bikes which began the day there."
   ]
  },
  {
   "cell_type": "code",
   "execution_count": 5,
   "metadata": {
    "collapsed": false
   },
   "outputs": [
    {
     "name": "stderr",
     "output_type": "stream",
     "text": [
      "100%|████████████████████████████████████| 6497/6497 [00:05<00:00, 1112.82it/s]\n"
     ]
    }
   ],
   "source": [
    "outbound_station_bikesets = {station_id: [] for station_id in stations.index}\n",
    "\n",
    "for bike_id in tqdm(np.unique(june_22['bikeid'])):\n",
    "    first_trip_station = june_22[june_22['bikeid'] == bike_id].sort_values(by='starttime').iloc[0]['start station id']\n",
    "    outbound_station_bikesets[first_trip_station].append(bike_id)"
   ]
  },
  {
   "cell_type": "markdown",
   "metadata": {},
   "source": [
    "The index is structured like so:\n",
    "\n",
    "    {<station id>: [<bike id>, <bike id>, ...]}\n",
    "\n",
    "Ok great, but now we need to convert that set of bike ids to sets of trip ids."
   ]
  },
  {
   "cell_type": "code",
   "execution_count": 32,
   "metadata": {
    "collapsed": false
   },
   "outputs": [
    {
     "name": "stderr",
     "output_type": "stream",
     "text": [
      "100%|███████████████████████████████████████| 474/474 [00:02<00:00, 164.29it/s]\n"
     ]
    }
   ],
   "source": [
    "import functools\n",
    "outbound_bike_trip_index = dict()\n",
    "\n",
    "for station_id, bike_id_list in tqdm(outbound_station_bikesets.items()):\n",
    "    trip_set = []\n",
    "    for bike_id in bike_id_list:\n",
    "        trip_set.append(list(june_22[june_22['bikeid'] == bike_id].index.values))\n",
    "    if len(trip_set) > 0:\n",
    "        trip_set = functools.reduce(lambda x,y: x+y, trip_set)\n",
    "    outbound_bike_trip_index[station_id] = trip_set"
   ]
  },
  {
   "cell_type": "markdown",
   "metadata": {},
   "source": [
    "And there you have it."
   ]
  },
  {
   "cell_type": "code",
   "execution_count": 33,
   "metadata": {
    "collapsed": false,
    "scrolled": true
   },
   "outputs": [
    {
     "data": {
      "text/plain": [
       "[1005037,\n",
       " 1005697,\n",
       " 1034787,\n",
       " 1035581,\n",
       " 1005015,\n",
       " 1006619,\n",
       " 1007494,\n",
       " 1010797,\n",
       " 1012207,\n",
       " 1013222,\n",
       " 1013964,\n",
       " 1015458,\n",
       " 1023771,\n",
       " 1024868,\n",
       " 1028162,\n",
       " 1030868,\n",
       " 1032378,\n",
       " 1047538,\n",
       " 1049546,\n",
       " 1051784,\n",
       " 178,\n",
       " 1016277,\n",
       " 1027213,\n",
       " 1032934,\n",
       " 1036287]"
      ]
     },
     "execution_count": 33,
     "metadata": {},
     "output_type": "execute_result"
    }
   ],
   "source": [
    "outbound_bike_trip_index[72]"
   ]
  },
  {
   "cell_type": "markdown",
   "metadata": {},
   "source": [
    "## Inbound bike trips\n",
    "\n",
    "Same process, just with slightly different inputs..."
   ]
  },
  {
   "cell_type": "code",
   "execution_count": 30,
   "metadata": {
    "collapsed": false
   },
   "outputs": [
    {
     "name": "stderr",
     "output_type": "stream",
     "text": [
      "100%|████████████████████████████████████| 6497/6497 [00:05<00:00, 1095.37it/s]\n"
     ]
    }
   ],
   "source": [
    "inbound_station_bikesets = {station_id: [] for station_id in stations.index}\n",
    "\n",
    "for bike_id in tqdm(np.unique(june_22['bikeid'])):\n",
    "    first_trip_station = june_22[june_22['bikeid'] == bike_id].sort_values(by='starttime', ascending=False).iloc[0]['start station id']\n",
    "    inbound_station_bikesets[first_trip_station].append(bike_id)"
   ]
  },
  {
   "cell_type": "code",
   "execution_count": 34,
   "metadata": {
    "collapsed": false
   },
   "outputs": [
    {
     "name": "stderr",
     "output_type": "stream",
     "text": [
      "100%|███████████████████████████████████████| 474/474 [00:02<00:00, 164.86it/s]\n"
     ]
    }
   ],
   "source": [
    "import functools\n",
    "inbound_bike_trip_index = dict()\n",
    "\n",
    "for station_id, bike_id_list in tqdm(inbound_station_bikesets.items()):\n",
    "    trip_set = []\n",
    "    for bike_id in bike_id_list:\n",
    "        trip_set.append(list(june_22[june_22['bikeid'] == bike_id].index.values))\n",
    "    if len(trip_set) > 0:\n",
    "        trip_set = functools.reduce(lambda x,y: x+y, trip_set)\n",
    "    inbound_bike_trip_index[station_id] = trip_set"
   ]
  },
  {
   "cell_type": "markdown",
   "metadata": {},
   "source": [
    "And there you have it."
   ]
  },
  {
   "cell_type": "code",
   "execution_count": 35,
   "metadata": {
    "collapsed": false,
    "scrolled": true
   },
   "outputs": [
    {
     "data": {
      "text/plain": [
       "[1016255,\n",
       " 1038188,\n",
       " 1038854,\n",
       " 1043492,\n",
       " 1013541,\n",
       " 1015353,\n",
       " 1017461,\n",
       " 1018528,\n",
       " 1024885,\n",
       " 1028258,\n",
       " 1029102,\n",
       " 1030061,\n",
       " 1031714,\n",
       " 1033776,\n",
       " 1047879,\n",
       " 1049421,\n",
       " 1057621,\n",
       " 1058834,\n",
       " 1060118,\n",
       " 1011219,\n",
       " 1014152,\n",
       " 1021996,\n",
       " 1022568,\n",
       " 1038434,\n",
       " 1040910,\n",
       " 1049130,\n",
       " 1018994,\n",
       " 1019842,\n",
       " 1034390,\n",
       " 1042124,\n",
       " 1047090,\n",
       " 1050550,\n",
       " 1052587,\n",
       " 1060234,\n",
       " 1006463,\n",
       " 1012314,\n",
       " 1013020,\n",
       " 1040282,\n",
       " 1043457,\n",
       " 1048515,\n",
       " 1015346,\n",
       " 1045405,\n",
       " 1049009,\n",
       " 1051135,\n",
       " 1011334,\n",
       " 1012160,\n",
       " 1026052,\n",
       " 1034899,\n",
       " 1043827,\n",
       " 1048595,\n",
       " 1050838,\n",
       " 1017156,\n",
       " 1019042,\n",
       " 1019892,\n",
       " 1020737,\n",
       " 1021258,\n",
       " 1025341,\n",
       " 1026295,\n",
       " 1026743,\n",
       " 1028075,\n",
       " 1029722,\n",
       " 1038587,\n",
       " 1043004,\n",
       " 632,\n",
       " 1015940,\n",
       " 1056313,\n",
       " 1058086,\n",
       " 1006717,\n",
       " 1018260,\n",
       " 1022519,\n",
       " 1023644,\n",
       " 1029823,\n",
       " 1035821,\n",
       " 1037143,\n",
       " 1038424,\n",
       " 1010022,\n",
       " 1011908,\n",
       " 1015132,\n",
       " 1018522,\n",
       " 1019648,\n",
       " 1021225,\n",
       " 1021613,\n",
       " 1023084,\n",
       " 1024161,\n",
       " 1024974,\n",
       " 1027652,\n",
       " 1028521,\n",
       " 1029330,\n",
       " 1030048,\n",
       " 1032184,\n",
       " 1033673,\n",
       " 1035669,\n",
       " 1037259,\n",
       " 1038567,\n",
       " 1039852,\n",
       " 1045137,\n",
       " 900,\n",
       " 1008543,\n",
       " 1010409,\n",
       " 1021198,\n",
       " 1027133,\n",
       " 1029171,\n",
       " 1032958,\n",
       " 1036348,\n",
       " 1045739,\n",
       " 1047490,\n",
       " 1049985,\n",
       " 1059079,\n",
       " 1060237,\n",
       " 1007818,\n",
       " 1008774,\n",
       " 1009167,\n",
       " 1010994,\n",
       " 1011221,\n",
       " 1012270,\n",
       " 1013570,\n",
       " 1025006,\n",
       " 1026418,\n",
       " 1027179,\n",
       " 1029925,\n",
       " 1030615,\n",
       " 1031889,\n",
       " 1036565,\n",
       " 1038234,\n",
       " 1039577,\n",
       " 1040601,\n",
       " 1042402,\n",
       " 1047148]"
      ]
     },
     "execution_count": 35,
     "metadata": {},
     "output_type": "execute_result"
    }
   ],
   "source": [
    "inbound_bike_trip_index[72]"
   ]
  },
  {
   "cell_type": "markdown",
   "metadata": {},
   "source": [
    "## Trips from station"
   ]
  },
  {
   "cell_type": "code",
   "execution_count": 36,
   "metadata": {
    "collapsed": false
   },
   "outputs": [
    {
     "data": {
      "text/html": [
       "<div>\n",
       "<table border=\"1\" class=\"dataframe\">\n",
       "  <thead>\n",
       "    <tr style=\"text-align: right;\">\n",
       "      <th></th>\n",
       "      <th>bikeid</th>\n",
       "      <th>birth year</th>\n",
       "      <th>end station id</th>\n",
       "      <th>end station latitude</th>\n",
       "      <th>end station longitude</th>\n",
       "      <th>end station name</th>\n",
       "      <th>gender</th>\n",
       "      <th>start station id</th>\n",
       "      <th>start station latitude</th>\n",
       "      <th>start station longitude</th>\n",
       "      <th>start station name</th>\n",
       "      <th>starttime</th>\n",
       "      <th>stoptime</th>\n",
       "      <th>tripduration</th>\n",
       "      <th>usertype</th>\n",
       "    </tr>\n",
       "  </thead>\n",
       "  <tbody>\n",
       "    <tr>\n",
       "      <th>1004842</th>\n",
       "      <td>25585</td>\n",
       "      <td>1978.0</td>\n",
       "      <td>450</td>\n",
       "      <td>40.762272</td>\n",
       "      <td>-73.987882</td>\n",
       "      <td>W 49 St &amp; 8 Ave</td>\n",
       "      <td>1</td>\n",
       "      <td>334</td>\n",
       "      <td>40.742388</td>\n",
       "      <td>-73.997262</td>\n",
       "      <td>W 20 St &amp; 7 Ave</td>\n",
       "      <td>6/22/2016 00:00:11</td>\n",
       "      <td>6/22/2016 00:13:17</td>\n",
       "      <td>785</td>\n",
       "      <td>Subscriber</td>\n",
       "    </tr>\n",
       "  </tbody>\n",
       "</table>\n",
       "</div>"
      ],
      "text/plain": [
       "         bikeid  birth year  end station id  end station latitude  \\\n",
       "1004842   25585      1978.0             450             40.762272   \n",
       "\n",
       "         end station longitude end station name  gender  start station id  \\\n",
       "1004842             -73.987882  W 49 St & 8 Ave       1               334   \n",
       "\n",
       "         start station latitude  start station longitude start station name  \\\n",
       "1004842               40.742388               -73.997262    W 20 St & 7 Ave   \n",
       "\n",
       "                  starttime            stoptime  tripduration    usertype  \n",
       "1004842  6/22/2016 00:00:11  6/22/2016 00:13:17           785  Subscriber  "
      ]
     },
     "execution_count": 36,
     "metadata": {},
     "output_type": "execute_result"
    }
   ],
   "source": [
    "june_22.head(1)"
   ]
  },
  {
   "cell_type": "code",
   "execution_count": 55,
   "metadata": {
    "collapsed": false
   },
   "outputs": [
    {
     "name": "stderr",
     "output_type": "stream",
     "text": [
      "100%|███████████████████████████████████████| 465/465 [00:00<00:00, 966.68it/s]\n"
     ]
    }
   ],
   "source": [
    "outbound_trip_index = dict()\n",
    "\n",
    "for start_station_id in tqdm(np.unique(june_22['start station id'])):\n",
    "    trip_ids = list(june_22[june_22['start station id'] == start_station_id].index.values)\n",
    "    outbound_trip_index[start_station_id] = list(june_22[june_22['bikeid'] == bike_id].index.values)"
   ]
  },
  {
   "cell_type": "code",
   "execution_count": 43,
   "metadata": {
    "collapsed": false
   },
   "outputs": [
    {
     "data": {
      "text/plain": [
       "[1004900,\n",
       " 1006445,\n",
       " 1006968,\n",
       " 1007743,\n",
       " 1012627,\n",
       " 1027981,\n",
       " 1032330,\n",
       " 1033799,\n",
       " 1046768,\n",
       " 1047218,\n",
       " 1052136,\n",
       " 1053102,\n",
       " 1053676,\n",
       " 1055161,\n",
       " 1056179,\n",
       " 1060215]"
      ]
     },
     "execution_count": 43,
     "metadata": {},
     "output_type": "execute_result"
    }
   ],
   "source": [
    "outbound_trip_index[72]"
   ]
  },
  {
   "cell_type": "markdown",
   "metadata": {},
   "source": [
    "## Trips to station"
   ]
  },
  {
   "cell_type": "code",
   "execution_count": 41,
   "metadata": {
    "collapsed": false
   },
   "outputs": [
    {
     "name": "stderr",
     "output_type": "stream",
     "text": [
      "100%|██████████████████████████████████████| 471/471 [00:00<00:00, 1017.22it/s]\n"
     ]
    }
   ],
   "source": [
    "inbound_trip_index = dict()\n",
    "\n",
    "for end_station_id in tqdm(np.unique(june_22['end station id'])):\n",
    "    trip_ids = list(june_22[june_22['end station id'] == end_station_id].index.values)\n",
    "    inbound_trip_index[end_station_id] = list(june_22[june_22['bikeid'] == bike_id].index.values)"
   ]
  },
  {
   "cell_type": "code",
   "execution_count": 44,
   "metadata": {
    "collapsed": false
   },
   "outputs": [
    {
     "data": {
      "text/plain": [
       "[1004900,\n",
       " 1006445,\n",
       " 1006968,\n",
       " 1007743,\n",
       " 1012627,\n",
       " 1027981,\n",
       " 1032330,\n",
       " 1033799,\n",
       " 1046768,\n",
       " 1047218,\n",
       " 1052136,\n",
       " 1053102,\n",
       " 1053676,\n",
       " 1055161,\n",
       " 1056179,\n",
       " 1060215]"
      ]
     },
     "execution_count": 44,
     "metadata": {},
     "output_type": "execute_result"
    }
   ],
   "source": [
    "inbound_trip_index[72]"
   ]
  },
  {
   "cell_type": "markdown",
   "metadata": {},
   "source": [
    "## Loading it into the database\n",
    "\n",
    "Get that crap into the database!"
   ]
  },
  {
   "cell_type": "code",
   "execution_count": 45,
   "metadata": {
    "collapsed": true
   },
   "outputs": [],
   "source": [
    "from pymongo import MongoClient"
   ]
  },
  {
   "cell_type": "code",
   "execution_count": 46,
   "metadata": {
    "collapsed": true
   },
   "outputs": [],
   "source": [
    "client = MongoClient(\"mongodb://localhost:27017\")"
   ]
  },
  {
   "cell_type": "markdown",
   "metadata": {},
   "source": [
    "...right, once again there is weirdness with numpy stuff needing to be cast into Python-native int."
   ]
  },
  {
   "cell_type": "code",
   "execution_count": 63,
   "metadata": {
    "collapsed": false
   },
   "outputs": [
    {
     "data": {
      "text/html": [
       "<div>\n",
       "<table border=\"1\" class=\"dataframe\">\n",
       "  <thead>\n",
       "    <tr style=\"text-align: right;\">\n",
       "      <th></th>\n",
       "      <th>latitude</th>\n",
       "      <th>longitude</th>\n",
       "      <th>station name</th>\n",
       "      <th>incoming trips</th>\n",
       "      <th>outgoing trips</th>\n",
       "      <th>all trips</th>\n",
       "      <th>kind</th>\n",
       "      <th>bikes outbound</th>\n",
       "      <th>outbound trips</th>\n",
       "      <th>bikes inbound</th>\n",
       "      <th>inbound trips</th>\n",
       "      <th>delta bikes</th>\n",
       "      <th>delta trips</th>\n",
       "    </tr>\n",
       "    <tr>\n",
       "      <th>station id</th>\n",
       "      <th></th>\n",
       "      <th></th>\n",
       "      <th></th>\n",
       "      <th></th>\n",
       "      <th></th>\n",
       "      <th></th>\n",
       "      <th></th>\n",
       "      <th></th>\n",
       "      <th></th>\n",
       "      <th></th>\n",
       "      <th></th>\n",
       "      <th></th>\n",
       "      <th></th>\n",
       "    </tr>\n",
       "  </thead>\n",
       "  <tbody>\n",
       "    <tr>\n",
       "      <th>264</th>\n",
       "      <td>40.707065</td>\n",
       "      <td>-74.007319</td>\n",
       "      <td>Maiden Ln &amp; Pearl St</td>\n",
       "      <td>100</td>\n",
       "      <td>98</td>\n",
       "      <td>198</td>\n",
       "      <td>active</td>\n",
       "      <td>3</td>\n",
       "      <td>46</td>\n",
       "      <td>14</td>\n",
       "      <td>103</td>\n",
       "      <td>11</td>\n",
       "      <td>57</td>\n",
       "    </tr>\n",
       "  </tbody>\n",
       "</table>\n",
       "</div>"
      ],
      "text/plain": [
       "             latitude  longitude          station name  incoming trips  \\\n",
       "station id                                                               \n",
       "264         40.707065 -74.007319  Maiden Ln & Pearl St             100   \n",
       "\n",
       "            outgoing trips  all trips    kind  bikes outbound  outbound trips  \\\n",
       "station id                                                                      \n",
       "264                     98        198  active               3              46   \n",
       "\n",
       "            bikes inbound  inbound trips  delta bikes  delta trips  \n",
       "station id                                                          \n",
       "264                    14            103           11           57  "
      ]
     },
     "execution_count": 63,
     "metadata": {},
     "output_type": "execute_result"
    }
   ],
   "source": [
    "stations.sample(1)"
   ]
  },
  {
   "cell_type": "code",
   "execution_count": 67,
   "metadata": {
    "collapsed": false,
    "scrolled": true
   },
   "outputs": [
    {
     "name": "stderr",
     "output_type": "stream",
     "text": [
      "  0%|                                                  | 0/474 [00:00<?, ?it/s]C:\\Users\\Alex\\Anaconda3\\envs\\citibike\\lib\\site-packages\\ipykernel\\__main__.py:10: DeprecationWarning: insert is deprecated. Use insert_one or insert_many instead.\n",
      "100%|███████████████████████████████████████| 474/474 [00:00<00:00, 890.93it/s]\n"
     ]
    }
   ],
   "source": [
    "# client['citibike']['station-indices'].insert_one({str(key): inbound_bike_trip_index[key] for key in inbound_bike_trip_index.keys()})\n",
    "# for key in inbound_bike_trip_index.keys():\n",
    "for station_id in tqdm(stations.index):\n",
    "    client['citibike']['station-indices'].insert({\n",
    "            'station id': str(station_id),\n",
    "            'tripsets': {\n",
    "                'inbound bike trip indices': [int(n) for n in inbound_bike_trip_index[station_id]]  if station_id in inbound_bike_trip_index else [],\n",
    "                'outbound bike trip indices': [int(n) for n in outbound_bike_trip_index[station_id]] if station_id in outbound_bike_trip_index else [],\n",
    "                'incoming trip indices': [int(n) for n in inbound_trip_index[station_id]] if station_id in inbound_trip_index else [],\n",
    "                'outgoing trip indices': [int(n) for n in outbound_trip_index[station_id]]  if station_id in outbound_trip_index else []\n",
    "            }\n",
    "        })"
   ]
  },
  {
   "cell_type": "markdown",
   "metadata": {},
   "source": [
    "And...done!"
   ]
  }
 ],
 "metadata": {
  "kernelspec": {
   "display_name": "Python 3",
   "language": "python",
   "name": "python3"
  },
  "language_info": {
   "codemirror_mode": {
    "name": "ipython",
    "version": 3
   },
   "file_extension": ".py",
   "mimetype": "text/x-python",
   "name": "python",
   "nbconvert_exporter": "python",
   "pygments_lexer": "ipython3",
   "version": "3.5.2"
  }
 },
 "nbformat": 4,
 "nbformat_minor": 0
}
