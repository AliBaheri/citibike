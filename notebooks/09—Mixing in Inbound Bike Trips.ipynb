{
 "cells": [
  {
   "cell_type": "markdown",
   "metadata": {},
   "source": [
    "# More bike tripping\n",
    "\n",
    "It makes symmetrical sense to point bikes which started the day at a station against bikes that ended the day there. This is that latter half."
   ]
  },
  {
   "cell_type": "code",
   "execution_count": 1,
   "metadata": {
    "collapsed": true
   },
   "outputs": [],
   "source": [
    "import pandas as pd\n",
    "import numpy as np\n",
    "import matplotlib.pyplot as plt\n",
    "%matplotlib inline\n",
    "import seaborn as sns\n",
    "import requests\n",
    "import io\n",
    "import zipfile\n",
    "from tqdm import tqdm"
   ]
  },
  {
   "cell_type": "code",
   "execution_count": 2,
   "metadata": {
    "collapsed": true
   },
   "outputs": [],
   "source": [
    "stations = pd.read_csv(\"../data/final/june_22_station_metadata.csv\", index_col=0)"
   ]
  },
  {
   "cell_type": "code",
   "execution_count": 3,
   "metadata": {
    "collapsed": true
   },
   "outputs": [],
   "source": [
    "june_22 = pd.read_csv(\"../data/final/all_june_22_citibike_trips.csv\", index_col=0)"
   ]
  },
  {
   "cell_type": "code",
   "execution_count": 4,
   "metadata": {
    "collapsed": false
   },
   "outputs": [
    {
     "data": {
      "text/html": [
       "<div>\n",
       "<table border=\"1\" class=\"dataframe\">\n",
       "  <thead>\n",
       "    <tr style=\"text-align: right;\">\n",
       "      <th></th>\n",
       "      <th>bikeid</th>\n",
       "      <th>birth year</th>\n",
       "      <th>end station id</th>\n",
       "      <th>end station latitude</th>\n",
       "      <th>end station longitude</th>\n",
       "      <th>end station name</th>\n",
       "      <th>gender</th>\n",
       "      <th>start station id</th>\n",
       "      <th>start station latitude</th>\n",
       "      <th>start station longitude</th>\n",
       "      <th>start station name</th>\n",
       "      <th>starttime</th>\n",
       "      <th>stoptime</th>\n",
       "      <th>tripduration</th>\n",
       "      <th>usertype</th>\n",
       "    </tr>\n",
       "  </thead>\n",
       "  <tbody>\n",
       "    <tr>\n",
       "      <th>1004842</th>\n",
       "      <td>25585</td>\n",
       "      <td>1978.0</td>\n",
       "      <td>450</td>\n",
       "      <td>40.762272</td>\n",
       "      <td>-73.987882</td>\n",
       "      <td>W 49 St &amp; 8 Ave</td>\n",
       "      <td>1</td>\n",
       "      <td>334</td>\n",
       "      <td>40.742388</td>\n",
       "      <td>-73.997262</td>\n",
       "      <td>W 20 St &amp; 7 Ave</td>\n",
       "      <td>6/22/2016 00:00:11</td>\n",
       "      <td>6/22/2016 00:13:17</td>\n",
       "      <td>785</td>\n",
       "      <td>Subscriber</td>\n",
       "    </tr>\n",
       "    <tr>\n",
       "      <th>1004843</th>\n",
       "      <td>23365</td>\n",
       "      <td>1997.0</td>\n",
       "      <td>486</td>\n",
       "      <td>40.746201</td>\n",
       "      <td>-73.988557</td>\n",
       "      <td>Broadway &amp; W 29 St</td>\n",
       "      <td>1</td>\n",
       "      <td>529</td>\n",
       "      <td>40.757570</td>\n",
       "      <td>-73.990985</td>\n",
       "      <td>W 42 St &amp; 8 Ave</td>\n",
       "      <td>6/22/2016 00:00:29</td>\n",
       "      <td>6/22/2016 00:08:00</td>\n",
       "      <td>450</td>\n",
       "      <td>Subscriber</td>\n",
       "    </tr>\n",
       "  </tbody>\n",
       "</table>\n",
       "</div>"
      ],
      "text/plain": [
       "         bikeid  birth year  end station id  end station latitude  \\\n",
       "1004842   25585      1978.0             450             40.762272   \n",
       "1004843   23365      1997.0             486             40.746201   \n",
       "\n",
       "         end station longitude    end station name  gender  start station id  \\\n",
       "1004842             -73.987882     W 49 St & 8 Ave       1               334   \n",
       "1004843             -73.988557  Broadway & W 29 St       1               529   \n",
       "\n",
       "         start station latitude  start station longitude start station name  \\\n",
       "1004842               40.742388               -73.997262    W 20 St & 7 Ave   \n",
       "1004843               40.757570               -73.990985    W 42 St & 8 Ave   \n",
       "\n",
       "                  starttime            stoptime  tripduration    usertype  \n",
       "1004842  6/22/2016 00:00:11  6/22/2016 00:13:17           785  Subscriber  \n",
       "1004843  6/22/2016 00:00:29  6/22/2016 00:08:00           450  Subscriber  "
      ]
     },
     "execution_count": 4,
     "metadata": {},
     "output_type": "execute_result"
    }
   ],
   "source": [
    "june_22.head(2)"
   ]
  },
  {
   "cell_type": "code",
   "execution_count": 10,
   "metadata": {
    "collapsed": false
   },
   "outputs": [
    {
     "data": {
      "text/plain": [
       "1025    2016-22-06 23:11:01\n",
       "Name: starttime, dtype: object"
      ]
     },
     "execution_count": 10,
     "metadata": {},
     "output_type": "execute_result"
    }
   ],
   "source": [
    "june_22[june_22['bikeid'] == 25585].sort_values(by='starttime', ascending=False).tail(1)['starttime']"
   ]
  },
  {
   "cell_type": "code",
   "execution_count": 11,
   "metadata": {
    "collapsed": false
   },
   "outputs": [
    {
     "data": {
      "text/plain": [
       "1060061    6/22/2016 23:24:15\n",
       "Name: starttime, dtype: object"
      ]
     },
     "execution_count": 11,
     "metadata": {},
     "output_type": "execute_result"
    }
   ],
   "source": [
    "june_22[june_22['bikeid'] == 25585].sort_values(by='starttime', ascending=False).head(1)['starttime']"
   ]
  },
  {
   "cell_type": "code",
   "execution_count": null,
   "metadata": {
    "collapsed": true
   },
   "outputs": [],
   "source": [
    "station_bikesets = {station_id: [] for station_id in stations.index}\n",
    "\n",
    "for bike_id in tqdm(np.unique(june_22['bikeid'])):\n",
    "    first_trip_station = june_22[june_22['bikeid'] == bike_id].sort_values(by='starttime', ascending=False).iloc[0]['start station id']\n",
    "    station_bikesets[first_trip_station].append(bike_id)"
   ]
  }
 ],
 "metadata": {
  "kernelspec": {
   "display_name": "Python 3",
   "language": "python",
   "name": "python3"
  },
  "language_info": {
   "codemirror_mode": {
    "name": "ipython",
    "version": 3
   },
   "file_extension": ".py",
   "mimetype": "text/x-python",
   "name": "python",
   "nbconvert_exporter": "python",
   "pygments_lexer": "ipython3",
   "version": "3.5.2"
  }
 },
 "nbformat": 4,
 "nbformat_minor": 0
}
