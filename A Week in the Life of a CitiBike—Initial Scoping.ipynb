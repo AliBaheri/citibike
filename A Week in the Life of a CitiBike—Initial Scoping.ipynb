{
 "cells": [
  {
   "cell_type": "markdown",
   "metadata": {},
   "source": [
    "## Getting the Data\n",
    "\n",
    "Citibike data is provided as `zip` files containing `csv` files organized by trip start time. For the purposes of visualization we need to download a month's sample of CitiBike trips, unpack it, load the `csv` into a `pandas` `DataFrame`, reslice the data by bike-week, draw samples from this resliced data, and save the results."
   ]
  },
  {
   "cell_type": "code",
   "execution_count": 20,
   "metadata": {
    "collapsed": false
   },
   "outputs": [],
   "source": [
    "import numpy as np\n",
    "import pandas as pd\n",
    "import requests\n",
    "import zipfile\n",
    "import io\n",
    "from datetime import datetime\n",
    "import random\n",
    "import matplotlib.pyplot as plt\n",
    "import seaborn as sns\n",
    "%matplotlib inline"
   ]
  },
  {
   "cell_type": "markdown",
   "metadata": {},
   "source": [
    "Download a month's sample of CitiBike trips, unpack it into a `csv`, and load it into a `pandas` `DataFrame`."
   ]
  },
  {
   "cell_type": "code",
   "execution_count": 2,
   "metadata": {
    "collapsed": true
   },
   "outputs": [],
   "source": [
    "r = requests.get('https://s3.amazonaws.com/tripdata/201603-citibike-tripdata.zip')\n",
    "with zipfile.ZipFile(io.BytesIO(r.content)) as ar:\n",
    "    trip_data = pd.read_csv(ar.open('201603-citibike-tripdata.csv'))"
   ]
  },
  {
   "cell_type": "code",
   "execution_count": 3,
   "metadata": {
    "collapsed": false
   },
   "outputs": [
    {
     "data": {
      "text/html": [
       "<div>\n",
       "<table border=\"1\" class=\"dataframe\">\n",
       "  <thead>\n",
       "    <tr style=\"text-align: right;\">\n",
       "      <th></th>\n",
       "      <th>tripduration</th>\n",
       "      <th>starttime</th>\n",
       "      <th>stoptime</th>\n",
       "      <th>start station id</th>\n",
       "      <th>start station name</th>\n",
       "      <th>start station latitude</th>\n",
       "      <th>start station longitude</th>\n",
       "      <th>end station id</th>\n",
       "      <th>end station name</th>\n",
       "      <th>end station latitude</th>\n",
       "      <th>end station longitude</th>\n",
       "      <th>bikeid</th>\n",
       "      <th>usertype</th>\n",
       "      <th>birth year</th>\n",
       "      <th>gender</th>\n",
       "    </tr>\n",
       "  </thead>\n",
       "  <tbody>\n",
       "    <tr>\n",
       "      <th>0</th>\n",
       "      <td>1491</td>\n",
       "      <td>3/1/2016 06:52:42</td>\n",
       "      <td>3/1/2016 07:17:33</td>\n",
       "      <td>72</td>\n",
       "      <td>W 52 St &amp; 11 Ave</td>\n",
       "      <td>40.767272</td>\n",
       "      <td>-73.993929</td>\n",
       "      <td>427</td>\n",
       "      <td>Bus Slip &amp; State St</td>\n",
       "      <td>40.701907</td>\n",
       "      <td>-74.013942</td>\n",
       "      <td>23914</td>\n",
       "      <td>Subscriber</td>\n",
       "      <td>1982.0</td>\n",
       "      <td>1</td>\n",
       "    </tr>\n",
       "    <tr>\n",
       "      <th>1</th>\n",
       "      <td>1044</td>\n",
       "      <td>3/1/2016 07:05:50</td>\n",
       "      <td>3/1/2016 07:23:15</td>\n",
       "      <td>72</td>\n",
       "      <td>W 52 St &amp; 11 Ave</td>\n",
       "      <td>40.767272</td>\n",
       "      <td>-73.993929</td>\n",
       "      <td>254</td>\n",
       "      <td>W 11 St &amp; 6 Ave</td>\n",
       "      <td>40.735324</td>\n",
       "      <td>-73.998004</td>\n",
       "      <td>23697</td>\n",
       "      <td>Subscriber</td>\n",
       "      <td>1978.0</td>\n",
       "      <td>1</td>\n",
       "    </tr>\n",
       "    <tr>\n",
       "      <th>2</th>\n",
       "      <td>714</td>\n",
       "      <td>3/1/2016 07:15:05</td>\n",
       "      <td>3/1/2016 07:26:59</td>\n",
       "      <td>72</td>\n",
       "      <td>W 52 St &amp; 11 Ave</td>\n",
       "      <td>40.767272</td>\n",
       "      <td>-73.993929</td>\n",
       "      <td>493</td>\n",
       "      <td>W 45 St &amp; 6 Ave</td>\n",
       "      <td>40.756800</td>\n",
       "      <td>-73.982912</td>\n",
       "      <td>21447</td>\n",
       "      <td>Subscriber</td>\n",
       "      <td>1960.0</td>\n",
       "      <td>2</td>\n",
       "    </tr>\n",
       "    <tr>\n",
       "      <th>3</th>\n",
       "      <td>329</td>\n",
       "      <td>3/1/2016 07:26:04</td>\n",
       "      <td>3/1/2016 07:31:34</td>\n",
       "      <td>72</td>\n",
       "      <td>W 52 St &amp; 11 Ave</td>\n",
       "      <td>40.767272</td>\n",
       "      <td>-73.993929</td>\n",
       "      <td>478</td>\n",
       "      <td>11 Ave &amp; W 41 St</td>\n",
       "      <td>40.760301</td>\n",
       "      <td>-73.998842</td>\n",
       "      <td>22351</td>\n",
       "      <td>Subscriber</td>\n",
       "      <td>1986.0</td>\n",
       "      <td>1</td>\n",
       "    </tr>\n",
       "    <tr>\n",
       "      <th>4</th>\n",
       "      <td>1871</td>\n",
       "      <td>3/1/2016 07:31:30</td>\n",
       "      <td>3/1/2016 08:02:41</td>\n",
       "      <td>72</td>\n",
       "      <td>W 52 St &amp; 11 Ave</td>\n",
       "      <td>40.767272</td>\n",
       "      <td>-73.993929</td>\n",
       "      <td>151</td>\n",
       "      <td>Cleveland Pl &amp; Spring St</td>\n",
       "      <td>40.722104</td>\n",
       "      <td>-73.997249</td>\n",
       "      <td>20985</td>\n",
       "      <td>Subscriber</td>\n",
       "      <td>1978.0</td>\n",
       "      <td>1</td>\n",
       "    </tr>\n",
       "  </tbody>\n",
       "</table>\n",
       "</div>"
      ],
      "text/plain": [
       "   tripduration          starttime           stoptime  start station id  \\\n",
       "0          1491  3/1/2016 06:52:42  3/1/2016 07:17:33                72   \n",
       "1          1044  3/1/2016 07:05:50  3/1/2016 07:23:15                72   \n",
       "2           714  3/1/2016 07:15:05  3/1/2016 07:26:59                72   \n",
       "3           329  3/1/2016 07:26:04  3/1/2016 07:31:34                72   \n",
       "4          1871  3/1/2016 07:31:30  3/1/2016 08:02:41                72   \n",
       "\n",
       "  start station name  start station latitude  start station longitude  \\\n",
       "0   W 52 St & 11 Ave               40.767272               -73.993929   \n",
       "1   W 52 St & 11 Ave               40.767272               -73.993929   \n",
       "2   W 52 St & 11 Ave               40.767272               -73.993929   \n",
       "3   W 52 St & 11 Ave               40.767272               -73.993929   \n",
       "4   W 52 St & 11 Ave               40.767272               -73.993929   \n",
       "\n",
       "   end station id          end station name  end station latitude  \\\n",
       "0             427       Bus Slip & State St             40.701907   \n",
       "1             254           W 11 St & 6 Ave             40.735324   \n",
       "2             493           W 45 St & 6 Ave             40.756800   \n",
       "3             478          11 Ave & W 41 St             40.760301   \n",
       "4             151  Cleveland Pl & Spring St             40.722104   \n",
       "\n",
       "   end station longitude  bikeid    usertype  birth year  gender  \n",
       "0             -74.013942   23914  Subscriber      1982.0       1  \n",
       "1             -73.998004   23697  Subscriber      1978.0       1  \n",
       "2             -73.982912   21447  Subscriber      1960.0       2  \n",
       "3             -73.998842   22351  Subscriber      1986.0       1  \n",
       "4             -73.997249   20985  Subscriber      1978.0       1  "
      ]
     },
     "execution_count": 3,
     "metadata": {},
     "output_type": "execute_result"
    }
   ],
   "source": [
    "trip_data.head(5)"
   ]
  },
  {
   "cell_type": "markdown",
   "metadata": {},
   "source": [
    "Sense check: how many bicycles are in the system?"
   ]
  },
  {
   "cell_type": "code",
   "execution_count": 4,
   "metadata": {
    "collapsed": false
   },
   "outputs": [
    {
     "data": {
      "text/plain": [
       "7484"
      ]
     },
     "execution_count": 4,
     "metadata": {},
     "output_type": "execute_result"
    }
   ],
   "source": [
    "len(trip_data['bikeid'].unique())"
   ]
  },
  {
   "cell_type": "markdown",
   "metadata": {},
   "source": [
    "Sense check: how many stations are in the system?"
   ]
  },
  {
   "cell_type": "code",
   "execution_count": 5,
   "metadata": {
    "collapsed": false
   },
   "outputs": [
    {
     "data": {
      "text/plain": [
       "473"
      ]
     },
     "execution_count": 5,
     "metadata": {},
     "output_type": "execute_result"
    }
   ],
   "source": [
    "len(trip_data['start station name'].unique())"
   ]
  },
  {
   "cell_type": "markdown",
   "metadata": {},
   "source": [
    "Everything seems tidy."
   ]
  },
  {
   "cell_type": "markdown",
   "metadata": {},
   "source": [
    "## Data Format and Shaping\n",
    "\n",
    "A few non-obvious things about the data:\n",
    "\n",
    "* `tripduration` is an exact count in seconds.\n",
    "* `usertype` is either subscriber or customer.\n",
    "* `gender` is 1 for male, 2 for female, and 0 for unknown. Gender is 0 when the rider is a customer, who do not provide their gender.\n",
    "* `gender` [skews heavily male](http://www.nytimes.com/2015/07/08/nyregion/a-mission-for-citi-bike-recruiting-more-female-cyclists.html?_r=0).\n",
    "* `birth year` is an empty space (`\" \"`) in the raw dataset when the user is a customer, which `pandas` interprets as an `np.nan` value.\n",
    "* CitiBike ridership is [heavily seasonal](http://toddwschneider.com/posts/a-tale-of-twenty-two-million-citi-bikes-analyzing-the-nyc-bike-share-system/) (this post is worth reading for anyone at all interested in the subject), with bikes recieving four times as many rides per day at their peak (in the early fall) as in their trough (deep winter).\n",
    "\n",
    "We need to covert those `starttime` and `stoptime` objects into `np.datetime64` objects."
   ]
  },
  {
   "cell_type": "code",
   "execution_count": 11,
   "metadata": {
    "collapsed": false,
    "scrolled": true
   },
   "outputs": [],
   "source": [
    "trip_data['starttime'] = trip_data['starttime'].map(lambda x: np.datetime64(datetime.strptime(x, \"%m/%d/%Y %H:%M:%S\")))\n",
    "trip_data['stoptime'] = trip_data['stoptime'].map(lambda x: np.datetime64(datetime.strptime(x, \"%m/%d/%Y %H:%M:%S\")))"
   ]
  },
  {
   "cell_type": "markdown",
   "metadata": {},
   "source": [
    "## Sampling Bike-Weeks\n",
    "\n",
    "Now let's take a sample of 100 random CitiBike-weeks. We'll randomly pick 10 bikes on the week starting on Saturday, March 6th.\n",
    "\n",
    "CitiBike ridership is heavily dependent on the day of the week, the time of day, and, to a lesser extent, on the weather. This one specific week was chosen because it was one of good weather (unusually hot, even) which ought to be representative of the greater whole of ridership days in the city.\n",
    "\n",
    "We could easily extend this to selecting a random week starting on Saturday from throughout the year."
   ]
  },
  {
   "cell_type": "code",
   "execution_count": 13,
   "metadata": {
    "collapsed": false,
    "scrolled": true
   },
   "outputs": [],
   "source": [
    "random_bikes = random.sample(list(trip_data['bikeid'].unique()), 10)\n",
    "sample_trips = pd.DataFrame(columns=trip_data.columns)\n",
    "for day, bike in zip([6]*7, random_bikes):\n",
    "    selected_trips = trip_data[trip_data['starttime'] < datetime(2016, 3, day + 7)]\n",
    "    selected_trips = selected_trips[selected_trips['stoptime'] >= datetime(2016, 3, day)]\n",
    "    selected_trips = selected_trips[selected_trips['bikeid'] == bike]\n",
    "    sample_trips = sample_trips.append(selected_trips)"
   ]
  },
  {
   "cell_type": "markdown",
   "metadata": {},
   "source": [
    "One quick interesting result: CitiBike daily ridership doesn't seem to be quite what we expected it to be (hence why weeks are the unit of interest here, instead of the days used by the Life Of A Taxi viz)."
   ]
  },
  {
   "cell_type": "code",
   "execution_count": 14,
   "metadata": {
    "collapsed": false,
    "scrolled": true
   },
   "outputs": [
    {
     "data": {
      "text/plain": [
       "3.685714285714286"
      ]
     },
     "execution_count": 14,
     "metadata": {},
     "output_type": "execute_result"
    }
   ],
   "source": [
    "(len(sample_trips)/10)/7"
   ]
  },
  {
   "cell_type": "markdown",
   "metadata": {},
   "source": [
    "I'm curious what this sample split looks like. I do not want my viewers to be bored by the data I am presenting them&mdash;how do I select a sample of bike-weeks such that examining any one of them will be interesting to my viewers?"
   ]
  },
  {
   "cell_type": "code",
   "execution_count": 26,
   "metadata": {
    "collapsed": false
   },
   "outputs": [
    {
     "data": {
      "text/plain": [
       "<matplotlib.text.Text at 0x397aa1d0>"
      ]
     },
     "execution_count": 26,
     "metadata": {},
     "output_type": "execute_result"
    },
    {
     "data": {
      "image/png": "[encoded data removed]",
      "text/plain": [
       "<matplotlib.figure.Figure at 0x39920898>"
      ]
     },
     "metadata": {},
     "output_type": "display_data"
    }
   ],
   "source": [
    "fig = plt.figure(figsize=(24, 10))\n",
    "sns.set(font_scale=2)\n",
    "ax = sns.distplot(np.array([len(trip_data[trip_data['bikeid'] == bike]) for bike in trip_data['bikeid'].unique()]) / 31 * 7)\n",
    "ax.set_xlim([0, 95])\n",
    "ax.set_title(\"Distribution of CitiBikes by Rides per Week\")"
   ]
  },
  {
   "cell_type": "markdown",
   "metadata": {},
   "source": [
    "The distribution is mostly normal, as would be expected, with fatter tails on either side. The former tail, near 0, is what is concerning. We want to avoid picking these bikes because they will not be very interesting to visualize!\n",
    "\n",
    "On the other hand, it would very interesting to watch what some of the bikes on the tail end of this distribution are doing. [If you're curious, IQuantNY has you covered](http://iquantny.tumblr.com/post/86569579414/citi-bike-17279-where-are-you-profiling-the).\n",
    "\n",
    "In a compromise between realism and visual interest I think that I will pick bikes which are at least in the 50th percentile of activity with respect to their peers. I will put up a percentile marker on the visualization itself to alert viewers as to where the bike they are looking at is with respect to the rest of the bikes in the system."
   ]
  },
  {
   "cell_type": "code",
   "execution_count": 29,
   "metadata": {
    "collapsed": false
   },
   "outputs": [],
   "source": [
    "bikes_by_ride_count = trip_data['bikeid'].value_counts()\n",
    "active_bikes = bikes_by_ride_count[bikes_by_ride_count > np.mean(bikes_by_ride_count)]"
   ]
  },
  {
   "cell_type": "code",
   "execution_count": 46,
   "metadata": {
    "collapsed": false
   },
   "outputs": [],
   "source": [
    "random_bikes = random.sample(list(active_bikes.index), 10)\n",
    "sample_trips = pd.DataFrame(columns=trip_data.columns)\n",
    "for day, bike in zip([6]*7, random_bikes):\n",
    "    selected_trips = trip_data[trip_data['starttime'] < datetime(2016, 3, day + 7)]\n",
    "    selected_trips = selected_trips[selected_trips['stoptime'] >= datetime(2016, 3, day)]\n",
    "    selected_trips = selected_trips[selected_trips['bikeid'] == bike]\n",
    "    sample_trips = sample_trips.append(selected_trips)"
   ]
  },
  {
   "cell_type": "markdown",
   "metadata": {},
   "source": [
    "With our sample computed we can proceed to saving our output. Only `sample_trips` is saved&mdash;`trip_data` is a small and easily enough accessible file that there's not much benefit to keeping our own copy of the dataset."
   ]
  },
  {
   "cell_type": "code",
   "execution_count": 49,
   "metadata": {
    "collapsed": true
   },
   "outputs": [],
   "source": [
    "sample_trips.index.name = 'Index'\n",
    "sample_trips.to_csv(\"sample_trips.csv\")"
   ]
  },
  {
   "cell_type": "markdown",
   "metadata": {},
   "source": [
    "The next notebook handles constructing coordinate data and converting the data to the `geojson` format."
   ]
  },
  {
   "cell_type": "code",
   "execution_count": 15,
   "metadata": {
    "collapsed": false,
    "scrolled": true
   },
   "outputs": [
    {
     "data": {
      "text/plain": [
       "[{'bounds': {'northeast': {'lat': 40.76747049999999, 'lng': -73.993723},\n",
       "   'southwest': {'lat': 40.7019074, 'lng': -74.0170893}},\n",
       "  'copyrights': 'Map data ©2016 Google',\n",
       "  'legs': [{'distance': {'text': '5.1 mi', 'value': 8257},\n",
       "    'duration': {'text': '26 mins', 'value': 1539},\n",
       "    'end_address': 'Peter Minuit Plaza, New York, NY 10004, USA',\n",
       "    'end_location': {'lat': 40.7019074, 'lng': -74.0140093},\n",
       "    'start_address': '600 W 52nd St, New York, NY 10019, USA',\n",
       "    'start_location': {'lat': 40.7672333, 'lng': -73.9939587},\n",
       "    'steps': [{'distance': {'text': '75 ft', 'value': 23},\n",
       "      'duration': {'text': '1 min', 'value': 5},\n",
       "      'end_location': {'lat': 40.7671295, 'lng': -73.993723},\n",
       "      'html_instructions': 'Head <b>southeast</b> on <b>W 52nd St</b> toward <b>11th Ave</b>',\n",
       "      'polyline': {'points': 'ejywFf}rbMRo@'},\n",
       "      'start_location': {'lat': 40.7672333, 'lng': -73.9939587},\n",
       "      'travel_mode': 'BICYCLING'},\n",
       "     {'distance': {'text': '259 ft', 'value': 79},\n",
       "      'duration': {'text': '1 min', 'value': 39},\n",
       "      'end_location': {'lat': 40.7665144, 'lng': -73.9941846},\n",
       "      'html_instructions': 'Turn <b>right</b> onto <b>11th Ave</b>',\n",
       "      'maneuver': 'turn-right',\n",
       "      'polyline': {'points': 'qiywFv{rbMzBzA'},\n",
       "      'start_location': {'lat': 40.7671295, 'lng': -73.993723},\n",
       "      'travel_mode': 'BICYCLING'},\n",
       "     {'distance': {'text': '0.1 mi', 'value': 218},\n",
       "      'duration': {'text': '1 min', 'value': 27},\n",
       "      'end_location': {'lat': 40.76747049999999, 'lng': -73.9964382},\n",
       "      'html_instructions': 'Turn <b>right</b> onto <b>W 51st St</b>',\n",
       "      'maneuver': 'turn-right',\n",
       "      'polyline': {'points': 'ueywFr~rbMkDvKSj@'},\n",
       "      'start_location': {'lat': 40.7665144, 'lng': -73.9941846},\n",
       "      'travel_mode': 'BICYCLING'},\n",
       "     {'distance': {'text': '262 ft', 'value': 80},\n",
       "      'duration': {'text': '1 min', 'value': 88},\n",
       "      'end_location': {'lat': 40.76684119999999, 'lng': -73.9968981},\n",
       "      'html_instructions': 'Turn <b>left</b> onto <b>12th Ave</b>',\n",
       "      'maneuver': 'turn-left',\n",
       "      'polyline': {'points': 'ukywFvlsbMb@ZxA~@'},\n",
       "      'start_location': {'lat': 40.76747049999999, 'lng': -73.9964382},\n",
       "      'travel_mode': 'BICYCLING'},\n",
       "     {'distance': {'text': '43 ft', 'value': 13},\n",
       "      'duration': {'text': '1 min', 'value': 2},\n",
       "      'end_location': {'lat': 40.7668993, 'lng': -73.997028},\n",
       "      'html_instructions': 'Turn <b>right</b> at <b>W 50th St</b>',\n",
       "      'maneuver': 'turn-right',\n",
       "      'polyline': {'points': 'wgywFrosbMKX'},\n",
       "      'start_location': {'lat': 40.76684119999999, 'lng': -73.9968981},\n",
       "      'travel_mode': 'BICYCLING'},\n",
       "     {'distance': {'text': '0.5 mi', 'value': 824},\n",
       "      'duration': {'text': '2 mins', 'value': 149},\n",
       "      'end_location': {'lat': 40.7608377, 'lng': -74.00249269999999},\n",
       "      'html_instructions': 'Turn <b>left</b> onto <b>Hudson River Greenway</b>',\n",
       "      'maneuver': 'turn-left',\n",
       "      'polyline': {'points': 'chywFlpsbMzFrDPJnEvCDBDD@BDHDFBBFBhBlALHJHLHFFHFHHHJHJFLFJHNHNd@v@`@p@FJHHHJ`@p@JNHLJNFHFHHJFFFHFFHFHJJFHHJHp@b@BBBB@BBDBB@@BBvBtA'},\n",
       "      'start_location': {'lat': 40.7668993, 'lng': -73.997028},\n",
       "      'travel_mode': 'BICYCLING'},\n",
       "     {'distance': {'text': '43 ft', 'value': 13},\n",
       "      'duration': {'text': '1 min', 'value': 2},\n",
       "      'end_location': {'lat': 40.76073, 'lng': -74.00255709999999},\n",
       "      'html_instructions': 'Slight <b>left</b> to stay on <b>Hudson River Greenway</b>',\n",
       "      'maneuver': 'turn-slight-left',\n",
       "      'polyline': {'points': 'gbxwFprtbMFDDBFB'},\n",
       "      'start_location': {'lat': 40.7608377, 'lng': -74.00249269999999},\n",
       "      'travel_mode': 'BICYCLING'},\n",
       "     {'distance': {'text': '0.9 mi', 'value': 1502},\n",
       "      'duration': {'text': '4 mins', 'value': 257},\n",
       "      'end_location': {'lat': 40.7484741, 'lng': -74.00804889999999},\n",
       "      'html_instructions': 'Slight <b>left</b> to stay on <b>Hudson River Greenway</b>',\n",
       "      'maneuver': 'turn-slight-left',\n",
       "      'polyline': {'points': 'qaxwF~rtbMNFD@FB`@X`@VPL`@Vf@\\\\j@^l@`@ZVvClBxGlE|MzIHFLHNHNHLFJFNFJDHDLBJDXFfKtCXHlBf@THRDNDNDNBPBN@N@J@L?L?NAL?JAH?H?F?F?HCFAJCJEFCDAB?F?B?F@H@F@FBFBB@F@D?H?FAFCDCFEHGFEFCFEFEHCJCDCFCDEBC@EBEBK?G@E@C'},\n",
       "      'start_location': {'lat': 40.76073, 'lng': -74.00255709999999},\n",
       "      'travel_mode': 'BICYCLING'},\n",
       "     {'distance': {'text': '2.5 mi', 'value': 4049},\n",
       "      'duration': {'text': '12 mins', 'value': 715},\n",
       "      'end_location': {'lat': 40.7126742, 'lng': -74.01457119999999},\n",
       "      'html_instructions': 'Slight <b>right</b> to stay on <b>Hudson River Greenway</b>',\n",
       "      'maneuver': 'turn-slight-right',\n",
       "      'polyline': {'points': '}tuwFhuubM@C@EBCDCFAH?H?J@J@RBxEf@F?dIv@~ALVJVFF@vBTJ@B@D@B@BBB@B?j@HTB~@HXDD?D@DAF@H?J@|APbFn@RDLBPDL@LBHBHBHDJDHFJHJJJJJHHFHFJFFBDBB@D?B?D?D@D?DBHDLFPFPFNFJBH@LBPBNBP@P@P?R?P?NCf@AtAIp@CLAN@^?nGTv@Fr@Hb@BZ@v@DTA^AZ@f@@n@DZ?B?ZBh@Dn@@b@BZB\\\\D`@Fv@BTCR@L?N@P?N?P?L?J?\\\\@d@BvBJrCLVBF?D?D@F?DBD@F@D@F?b@BP@p@BF?D?DAF?D?D?H?zAFlBRbG`@l@FT@T@N?L?^Dh@Dv@JjCVb@F|APhDb@zAPf@D`Fn@@?B@B@B@@@BBB@B@TBF@L@JBJ@F@F@F?F@n@JnB\\\\H@F@T@T@LBTDVBVDl@FNDPDbAPnC`@H@XDpCd@\\\\DhEp@THTJ^FB@BBFLBBB@@?tB`@@?B?BANGB?B?d@HR@VFTBNBLBVNd@VTLHBNBJBNBPBD?'},\n",
       "      'start_location': {'lat': 40.7484741, 'lng': -74.00804889999999},\n",
       "      'travel_mode': 'BICYCLING'},\n",
       "     {'distance': {'text': '0.6 mi', 'value': 917},\n",
       "      'duration': {'text': '3 mins', 'value': 158},\n",
       "      'end_location': {'lat': 40.7047018, 'lng': -74.0170893},\n",
       "      'html_instructions': 'Turn <b>left</b> to stay on <b>Hudson River Greenway</b>',\n",
       "      'maneuver': 'turn-left',\n",
       "      'polyline': {'points': 'eunwF`~vbMHKhARfAPF?FAH?jANd@FH@JBZJNDFBFDHBFBp@L`@JD@B@F@H?H?R?H?B?LDJBJBPBj@JL@JBLBLBvFzARFXHbAXDBFBDBFBFBFDFBF@t@TFBF@F@HBJ@LBH@H@JBF@hBh@hCt@JDNBJBZH'},\n",
       "      'start_location': {'lat': 40.7126742, 'lng': -74.01457119999999},\n",
       "      'travel_mode': 'BICYCLING'},\n",
       "     {'distance': {'text': '0.2 mi', 'value': 255},\n",
       "      'duration': {'text': '1 min', 'value': 51},\n",
       "      'end_location': {'lat': 40.7039531, 'lng': -74.0146993},\n",
       "      'html_instructions': 'Turn <b>left</b> onto <b>Battery Bikeway</b>',\n",
       "      'maneuver': 'turn-left',\n",
       "      'polyline': {'points': 'kcmwFxmwbMBABA@C@C?E?E?K@i@Ag@@K@S@QC_@ASAI?K@M@g@@S@UD[D_@@GFMHOJMDIFGPKNCRDR?'},\n",
       "      'start_location': {'lat': 40.7047018, 'lng': -74.0170893},\n",
       "      'travel_mode': 'BICYCLING'},\n",
       "     {'distance': {'text': '0.1 mi', 'value': 200},\n",
       "      'duration': {'text': '1 min', 'value': 33},\n",
       "      'end_location': {'lat': 40.7022507, 'lng': -74.01430789999999},\n",
       "      'html_instructions': 'Slight <b>left</b> to stay on <b>Battery Bikeway</b>',\n",
       "      'maneuver': 'turn-slight-left',\n",
       "      'polyline': {'points': 'u~lwFz~vbMLANAHEFCJ?F?PBVHd@JH?N?TANELEVKVQNILKLGTO'},\n",
       "      'start_location': {'lat': 40.7039531, 'lng': -74.0146993},\n",
       "      'travel_mode': 'BICYCLING'},\n",
       "     {'distance': {'text': '138 ft', 'value': 42},\n",
       "      'duration': {'text': '1 min', 'value': 6},\n",
       "      'end_location': {'lat': 40.7022261, 'lng': -74.01381839999999},\n",
       "      'html_instructions': 'Turn <b>left</b> to stay on <b>Battery Bikeway</b>',\n",
       "      'maneuver': 'turn-left',\n",
       "      'polyline': {'points': 'atlwFl|vbMB[?I@I?A?U?MAK'},\n",
       "      'start_location': {'lat': 40.7022507, 'lng': -74.01430789999999},\n",
       "      'travel_mode': 'BICYCLING'},\n",
       "     {'distance': {'text': '138 ft', 'value': 42},\n",
       "      'duration': {'text': '1 min', 'value': 7},\n",
       "      'end_location': {'lat': 40.7019074, 'lng': -74.0140093},\n",
       "      'html_instructions': 'Turn <b>right</b> onto <b>Peter Minuit Plaza</b><div style=\"font-size:0.9em\">Destination will be on the left</div>',\n",
       "      'maneuver': 'turn-right',\n",
       "      'polyline': {'points': '}slwFjyvbMN?JRDFFDHBJ?'},\n",
       "      'start_location': {'lat': 40.7022261, 'lng': -74.01381839999999},\n",
       "      'travel_mode': 'BICYCLING'}],\n",
       "    'via_waypoint': []}],\n",
       "  'overview_polyline': {'points': 'ejywFf}rbMRo@zBzA_EbM|BzAKXzFrD`FbDJHPXjCdBh@b@b@p@zAhCfBjC`@f@f@b@jAz@LPdC`Bb@P`GzDZVvClBvVhPv@d@t@\\\\|@VdPpEbAT|@Hx@Af@Ad@I\\\\K\\\\BZJL@PALGPM^Ub@ONUF]LQPAT@`Gl@dLdAn@RnCZPHdCVj@DzBTvG~@n@Lj@\\\\l@h@b@VR@ZJ`A^t@LdAF|AEfCM\\\\?nHTjBP~@DlABz@?vAF^?dAHrADx@HxAJh@A~@@hA@dJb@XHnBHZApBFtL~@rAFpGp@fGt@bCVfFp@LHd@Hl@HfANxB^\\\\BpANdAL`@JvFz@nDj@hEp@THt@RFDJPD@vB`@FARGh@HR@VFd@Fd@Rz@d@t@NVBHKhARnAPPAfC\\\\z@ZdB`@ZDj@?v@PrATrHpBvAd@^PlA\\\\rATnGhBf@LFCBS@iBBe@Es@@kABi@J{@HUT]LQPKNCf@DLAl@KXB|@TX?d@GlAm@ZSTOB[@S?WAYN?JRLLTB'},\n",
       "  'summary': 'Hudson River Greenway',\n",
       "  'warnings': [\"Bicycling directions are in beta. Use caution – This route may contain streets that aren't suited for bicycling.\"],\n",
       "  'waypoint_order': []}]"
      ]
     },
     "execution_count": 15,
     "metadata": {},
     "output_type": "execute_result"
    }
   ],
   "source": [
    "gmaps.directions([40.76727216,-73.99392888], [40.701907,-74.013942], mode='bicycling')"
   ]
  },
  {
   "cell_type": "code",
   "execution_count": 16,
   "metadata": {
    "collapsed": true
   },
   "outputs": [],
   "source": [
    "req = _"
   ]
  },
  {
   "cell_type": "code",
   "execution_count": 39,
   "metadata": {
    "collapsed": false,
    "scrolled": true
   },
   "outputs": [
    {
     "data": {
      "text/plain": [
       "[{'distance': {'text': '75 ft', 'value': 23},\n",
       "  'duration': {'text': '1 min', 'value': 5},\n",
       "  'end_location': {'lat': 40.7671295, 'lng': -73.993723},\n",
       "  'html_instructions': 'Head <b>southeast</b> on <b>W 52nd St</b> toward <b>11th Ave</b>',\n",
       "  'polyline': {'points': 'ejywFf}rbMRo@'},\n",
       "  'start_location': {'lat': 40.7672333, 'lng': -73.9939587},\n",
       "  'travel_mode': 'BICYCLING'},\n",
       " {'distance': {'text': '259 ft', 'value': 79},\n",
       "  'duration': {'text': '1 min', 'value': 39},\n",
       "  'end_location': {'lat': 40.7665144, 'lng': -73.9941846},\n",
       "  'html_instructions': 'Turn <b>right</b> onto <b>11th Ave</b>',\n",
       "  'maneuver': 'turn-right',\n",
       "  'polyline': {'points': 'qiywFv{rbMzBzA'},\n",
       "  'start_location': {'lat': 40.7671295, 'lng': -73.993723},\n",
       "  'travel_mode': 'BICYCLING'},\n",
       " {'distance': {'text': '0.1 mi', 'value': 218},\n",
       "  'duration': {'text': '1 min', 'value': 27},\n",
       "  'end_location': {'lat': 40.76747049999999, 'lng': -73.9964382},\n",
       "  'html_instructions': 'Turn <b>right</b> onto <b>W 51st St</b>',\n",
       "  'maneuver': 'turn-right',\n",
       "  'polyline': {'points': 'ueywFr~rbMkDvKSj@'},\n",
       "  'start_location': {'lat': 40.7665144, 'lng': -73.9941846},\n",
       "  'travel_mode': 'BICYCLING'},\n",
       " {'distance': {'text': '262 ft', 'value': 80},\n",
       "  'duration': {'text': '1 min', 'value': 88},\n",
       "  'end_location': {'lat': 40.76684119999999, 'lng': -73.9968981},\n",
       "  'html_instructions': 'Turn <b>left</b> onto <b>12th Ave</b>',\n",
       "  'maneuver': 'turn-left',\n",
       "  'polyline': {'points': 'ukywFvlsbMb@ZxA~@'},\n",
       "  'start_location': {'lat': 40.76747049999999, 'lng': -73.9964382},\n",
       "  'travel_mode': 'BICYCLING'},\n",
       " {'distance': {'text': '43 ft', 'value': 13},\n",
       "  'duration': {'text': '1 min', 'value': 2},\n",
       "  'end_location': {'lat': 40.7668993, 'lng': -73.997028},\n",
       "  'html_instructions': 'Turn <b>right</b> at <b>W 50th St</b>',\n",
       "  'maneuver': 'turn-right',\n",
       "  'polyline': {'points': 'wgywFrosbMKX'},\n",
       "  'start_location': {'lat': 40.76684119999999, 'lng': -73.9968981},\n",
       "  'travel_mode': 'BICYCLING'},\n",
       " {'distance': {'text': '0.5 mi', 'value': 824},\n",
       "  'duration': {'text': '2 mins', 'value': 149},\n",
       "  'end_location': {'lat': 40.7608377, 'lng': -74.00249269999999},\n",
       "  'html_instructions': 'Turn <b>left</b> onto <b>Hudson River Greenway</b>',\n",
       "  'maneuver': 'turn-left',\n",
       "  'polyline': {'points': 'chywFlpsbMzFrDPJnEvCDBDD@BDHDFBBFBhBlALHJHLHFFHFHHHJHJFLFJHNHNd@v@`@p@FJHHHJ`@p@JNHLJNFHFHHJFFFHFFHFHJJFHHJHp@b@BBBB@BBDBB@@BBvBtA'},\n",
       "  'start_location': {'lat': 40.7668993, 'lng': -73.997028},\n",
       "  'travel_mode': 'BICYCLING'},\n",
       " {'distance': {'text': '43 ft', 'value': 13},\n",
       "  'duration': {'text': '1 min', 'value': 2},\n",
       "  'end_location': {'lat': 40.76073, 'lng': -74.00255709999999},\n",
       "  'html_instructions': 'Slight <b>left</b> to stay on <b>Hudson River Greenway</b>',\n",
       "  'maneuver': 'turn-slight-left',\n",
       "  'polyline': {'points': 'gbxwFprtbMFDDBFB'},\n",
       "  'start_location': {'lat': 40.7608377, 'lng': -74.00249269999999},\n",
       "  'travel_mode': 'BICYCLING'},\n",
       " {'distance': {'text': '0.9 mi', 'value': 1502},\n",
       "  'duration': {'text': '4 mins', 'value': 257},\n",
       "  'end_location': {'lat': 40.7484741, 'lng': -74.00804889999999},\n",
       "  'html_instructions': 'Slight <b>left</b> to stay on <b>Hudson River Greenway</b>',\n",
       "  'maneuver': 'turn-slight-left',\n",
       "  'polyline': {'points': 'qaxwF~rtbMNFD@FB`@X`@VPL`@Vf@\\\\j@^l@`@ZVvClBxGlE|MzIHFLHNHNHLFJFNFJDHDLBJDXFfKtCXHlBf@THRDNDNDNBPBN@N@J@L?L?NAL?JAH?H?F?F?HCFAJCJEFCDAB?F?B?F@H@F@FBFBB@F@D?H?FAFCDCFEHGFEFCFEFEHCJCDCFCDEBC@EBEBK?G@E@C'},\n",
       "  'start_location': {'lat': 40.76073, 'lng': -74.00255709999999},\n",
       "  'travel_mode': 'BICYCLING'},\n",
       " {'distance': {'text': '2.5 mi', 'value': 4049},\n",
       "  'duration': {'text': '12 mins', 'value': 715},\n",
       "  'end_location': {'lat': 40.7126742, 'lng': -74.01457119999999},\n",
       "  'html_instructions': 'Slight <b>right</b> to stay on <b>Hudson River Greenway</b>',\n",
       "  'maneuver': 'turn-slight-right',\n",
       "  'polyline': {'points': '}tuwFhuubM@C@EBCDCFAH?H?J@J@RBxEf@F?dIv@~ALVJVFF@vBTJ@B@D@B@BBB@B?j@HTB~@HXDD?D@DAF@H?J@|APbFn@RDLBPDL@LBHBHBHDJDHFJHJJJJJHHFHFJFFBDBB@D?B?D?D@D?DBHDLFPFPFNFJBH@LBPBNBP@P@P?R?P?NCf@AtAIp@CLAN@^?nGTv@Fr@Hb@BZ@v@DTA^AZ@f@@n@DZ?B?ZBh@Dn@@b@BZB\\\\D`@Fv@BTCR@L?N@P?N?P?L?J?\\\\@d@BvBJrCLVBF?D?D@F?DBD@F@D@F?b@BP@p@BF?D?DAF?D?D?H?zAFlBRbG`@l@FT@T@N?L?^Dh@Dv@JjCVb@F|APhDb@zAPf@D`Fn@@?B@B@B@@@BBB@B@TBF@L@JBJ@F@F@F?F@n@JnB\\\\H@F@T@T@LBTDVBVDl@FNDPDbAPnC`@H@XDpCd@\\\\DhEp@THTJ^FB@BBFLBBB@@?tB`@@?B?BANGB?B?d@HR@VFTBNBLBVNd@VTLHBNBJBNBPBD?'},\n",
       "  'start_location': {'lat': 40.7484741, 'lng': -74.00804889999999},\n",
       "  'travel_mode': 'BICYCLING'},\n",
       " {'distance': {'text': '0.6 mi', 'value': 917},\n",
       "  'duration': {'text': '3 mins', 'value': 158},\n",
       "  'end_location': {'lat': 40.7047018, 'lng': -74.0170893},\n",
       "  'html_instructions': 'Turn <b>left</b> to stay on <b>Hudson River Greenway</b>',\n",
       "  'maneuver': 'turn-left',\n",
       "  'polyline': {'points': 'eunwF`~vbMHKhARfAPF?FAH?jANd@FH@JBZJNDFBFDHBFBp@L`@JD@B@F@H?H?R?H?B?LDJBJBPBj@JL@JBLBLBvFzARFXHbAXDBFBDBFBFBFDFBF@t@TFBF@F@HBJ@LBH@H@JBF@hBh@hCt@JDNBJBZH'},\n",
       "  'start_location': {'lat': 40.7126742, 'lng': -74.01457119999999},\n",
       "  'travel_mode': 'BICYCLING'},\n",
       " {'distance': {'text': '0.2 mi', 'value': 255},\n",
       "  'duration': {'text': '1 min', 'value': 51},\n",
       "  'end_location': {'lat': 40.7039531, 'lng': -74.0146993},\n",
       "  'html_instructions': 'Turn <b>left</b> onto <b>Battery Bikeway</b>',\n",
       "  'maneuver': 'turn-left',\n",
       "  'polyline': {'points': 'kcmwFxmwbMBABA@C@C?E?E?K@i@Ag@@K@S@QC_@ASAI?K@M@g@@S@UD[D_@@GFMHOJMDIFGPKNCRDR?'},\n",
       "  'start_location': {'lat': 40.7047018, 'lng': -74.0170893},\n",
       "  'travel_mode': 'BICYCLING'},\n",
       " {'distance': {'text': '0.1 mi', 'value': 200},\n",
       "  'duration': {'text': '1 min', 'value': 33},\n",
       "  'end_location': {'lat': 40.7022507, 'lng': -74.01430789999999},\n",
       "  'html_instructions': 'Slight <b>left</b> to stay on <b>Battery Bikeway</b>',\n",
       "  'maneuver': 'turn-slight-left',\n",
       "  'polyline': {'points': 'u~lwFz~vbMLANAHEFCJ?F?PBVHd@JH?N?TANELEVKVQNILKLGTO'},\n",
       "  'start_location': {'lat': 40.7039531, 'lng': -74.0146993},\n",
       "  'travel_mode': 'BICYCLING'},\n",
       " {'distance': {'text': '138 ft', 'value': 42},\n",
       "  'duration': {'text': '1 min', 'value': 6},\n",
       "  'end_location': {'lat': 40.7022261, 'lng': -74.01381839999999},\n",
       "  'html_instructions': 'Turn <b>left</b> to stay on <b>Battery Bikeway</b>',\n",
       "  'maneuver': 'turn-left',\n",
       "  'polyline': {'points': 'atlwFl|vbMB[?I@I?A?U?MAK'},\n",
       "  'start_location': {'lat': 40.7022507, 'lng': -74.01430789999999},\n",
       "  'travel_mode': 'BICYCLING'},\n",
       " {'distance': {'text': '138 ft', 'value': 42},\n",
       "  'duration': {'text': '1 min', 'value': 7},\n",
       "  'end_location': {'lat': 40.7019074, 'lng': -74.0140093},\n",
       "  'html_instructions': 'Turn <b>right</b> onto <b>Peter Minuit Plaza</b><div style=\"font-size:0.9em\">Destination will be on the left</div>',\n",
       "  'maneuver': 'turn-right',\n",
       "  'polyline': {'points': '}slwFjyvbMN?JRDFFDHBJ?'},\n",
       "  'start_location': {'lat': 40.7022261, 'lng': -74.01381839999999},\n",
       "  'travel_mode': 'BICYCLING'}]"
      ]
     },
     "execution_count": 39,
     "metadata": {},
     "output_type": "execute_result"
    }
   ],
   "source": [
    "[leg['steps'] for leg in req[0]['legs']][0]"
   ]
  },
  {
   "cell_type": "code",
   "execution_count": 54,
   "metadata": {
    "collapsed": false
   },
   "outputs": [],
   "source": [
    "polylines = [step['polyline']['points'] for step in [leg['steps'] for leg in req[0]['legs']][0]]"
   ]
  },
  {
   "cell_type": "code",
   "execution_count": 59,
   "metadata": {
    "collapsed": false
   },
   "outputs": [],
   "source": [
    "decoder = PolylineCodec()\n",
    "\n",
    "coords = []\n",
    "for polyline in polylines:\n",
    "    coords += decoder.decode(polylines[5])"
   ]
  },
  {
   "cell_type": "code",
   "execution_count": 31,
   "metadata": {
    "collapsed": false
   },
   "outputs": [],
   "source": [
    "# coords"
   ]
  }
 ],
 "metadata": {
  "kernelspec": {
   "display_name": "Python 3",
   "language": "python",
   "name": "python3"
  },
  "language_info": {
   "codemirror_mode": {
    "name": "ipython",
    "version": 3
   },
   "file_extension": ".py",
   "mimetype": "text/x-python",
   "name": "python",
   "nbconvert_exporter": "python",
   "pygments_lexer": "ipython3",
   "version": "3.5.2"
  }
 },
 "nbformat": 4,
 "nbformat_minor": 0
}
