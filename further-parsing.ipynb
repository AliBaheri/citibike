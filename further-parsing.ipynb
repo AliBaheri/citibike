{
 "cells": [
  {
   "cell_type": "code",
   "execution_count": null,
   "metadata": {
    "collapsed": true
   },
   "outputs": [],
   "source": [
    "# Formatting the data\n",
    "\n",
    "At this point the data is saved locally in `csv` format as `sample_trips.csv`, we need to grab that file and throw it through the wringer to format it into a GeoJSON store that can be consumed by `d3.js`."
   ]
  },
  {
   "cell_type": "code",
   "execution_count": 1,
   "metadata": {
    "collapsed": false
   },
   "outputs": [],
   "source": [
    "import googlemaps\n",
    "import json\n",
    "import os\n",
    "from polyline.codec import PolylineCodec\n",
    "import geojson\n",
    "import pandas as pd\n",
    "import mplleaflet\n",
    "import matplotlib.pyplot as plt"
   ]
  },
  {
   "cell_type": "code",
   "execution_count": 19,
   "metadata": {
    "collapsed": true
   },
   "outputs": [],
   "source": [
    "%matplotlib inline"
   ]
  },
  {
   "cell_type": "markdown",
   "metadata": {},
   "source": [
    "First retrieve the data from the `csv` store."
   ]
  },
  {
   "cell_type": "code",
   "execution_count": 2,
   "metadata": {
    "collapsed": false
   },
   "outputs": [],
   "source": [
    "sample_trips = pd.read_csv(\"sample_trips.csv\", index_col=0)"
   ]
  },
  {
   "cell_type": "markdown",
   "metadata": {},
   "source": [
    "We now need pass the data through the Google Maps API and passing it to a `GeoJSON`-formatted `dict` that we can save and have `d3.js` consume. This is a complex process; here are the steps:\n",
    "\n",
    "1. Call the Google Maps Directions API using the `googlemaps` module and parse out the [encoded polylines](https://developers.google.com/maps/documentation/utilities/polylinealgorithm).\n",
    "2. Use the `polyline` module to dehash these into coordinates.\n",
    "3. The Google Maps Directions API represents each trip as a series of subcomponents called \"legs\". For our purposes we want the entire coordinate list proper, so we have to flatten these coordinate sublists into a single list.\n",
    "4. Package these coordinates into a unified GeoJSON `FeaturesList`, in which each set of coordinates is a single `Feature` consisting of `Point` entities (all represented as objects from the `geojson` module in-code). (??? still a WIP...)\n",
    "5. Save this as `sample_trips.geojson`. Done!"
   ]
  },
  {
   "cell_type": "markdown",
   "metadata": {},
   "source": [
    "Set up Google Maps API access. You need to have your Google Maps API credentials stored locally as `google_maps_api_key.json` using the following format:\n",
    "\n",
    "> `{ \"key\": \"...\" }`\n",
    "\n",
    "See the [Google Developer Console](https://console.developers.google.com/) for information getting your own API key!"
   ]
  },
  {
   "cell_type": "code",
   "execution_count": 3,
   "metadata": {
    "collapsed": true
   },
   "outputs": [],
   "source": [
    "def import_credentials(filename='google_maps_api_key.json'):\n",
    "    if filename in [f for f in os.listdir('.') if os.path.isfile(f)]:\n",
    "        data = json.load(open(filename))['key']\n",
    "        return data\n",
    "    else:\n",
    "        raise IOError(\n",
    "            'This API requires a Google Maps credentials token to work. Did you forget to define one?')\n",
    "        \n",
    "gmaps = googlemaps.Client(key=import_credentials())"
   ]
  },
  {
   "cell_type": "markdown",
   "metadata": {},
   "source": [
    "First I wrote and tested a method which passes directions to Google Maps, and parses it down to coordinates, and a `mplleaflet` mapper to check the results."
   ]
  },
  {
   "cell_type": "code",
   "execution_count": 4,
   "metadata": {
    "collapsed": true
   },
   "outputs": [],
   "source": [
    "def get_path(start, end, client):\n",
    "    req = client.directions(start, end, mode='bicycling')\n",
    "    polylines = [step['polyline']['points'] for step in [leg['steps'] for leg in req[0]['legs']][0]]\n",
    "    coords = []\n",
    "    for polyline in polylines:\n",
    "        coords += PolylineCodec().decode(polyline)\n",
    "    return coords"
   ]
  },
  {
   "cell_type": "code",
   "execution_count": 33,
   "metadata": {
    "collapsed": true
   },
   "outputs": [],
   "source": [
    "def plot_path(coords):\n",
    "    x_coords = [coord[1] for coord in coords] # Notice the position swap!\n",
    "    y_coords = [coord[0] for coord in coords]\n",
    "    plt.hold(True)\n",
    "    plt.plot(x_coords, y_coords, 'b')\n",
    "    # mplleaflet.display(fig=plt.figure())\n",
    "    mplleaflet.show()"
   ]
  },
  {
   "cell_type": "markdown",
   "metadata": {},
   "source": [
    "The following opens the full `Leaflet` plot in a seperate window."
   ]
  },
  {
   "cell_type": "code",
   "execution_count": 35,
   "metadata": {
    "collapsed": true
   },
   "outputs": [],
   "source": [
    "test_path = get_path([40.76727216,-73.99392888], [40.701907,-74.013942], gmaps) # actual path from the data"
   ]
  },
  {
   "cell_type": "code",
   "execution_count": 36,
   "metadata": {
    "collapsed": false
   },
   "outputs": [],
   "source": [
    "plot_path(test_path)"
   ]
  },
  {
   "cell_type": "markdown",
   "metadata": {},
   "source": [
    "Before we can go further, however, we have to address an issue that crops up. The Citibike dataset includes basic demographic information about bikes' users (`birth year` and `gender`) which is available only for subscribers (that is, records with `usertype=subscriber`). Non-subscribers (customers, probably primarily tourists, which are indicated by a `usertype=Customer` value) are not required to provide this data to ride, and so these columns are unavailable in these cases.\n",
    "\n",
    "The Citibike dataset encodes unknown `gender` as 0.0 (`1.0` is male, `2.0` is female) and it encodes unknown `birth year` as a blank space which `pandas` converts to an `np.nan` value. However, the `geojson` spec doesn't support `np.nan` or other such sentinal values, so if we try to pass a `birth year=np.nan` to `geojson.dumps` and/or validate our data it will not take. This is easy to fix: to maintain formatting consistency we simply replace `birth year=np.nan` with `birth year=0.0` (as with `gender`) using `pd.fillna()`.\n"
   ]
  },
  {
   "cell_type": "code",
   "execution_count": 135,
   "metadata": {
    "collapsed": false,
    "scrolled": true
   },
   "outputs": [],
   "source": [
    "sample_trips = sample_trips.fillna(0.0)"
   ]
  },
  {
   "cell_type": "markdown",
   "metadata": {},
   "source": [
    "The following method reads the list of paths associated with a particular bicycle from our dataset and packages it into a `FeatureCollection` containing the bicycle's entire trip-week."
   ]
  },
  {
   "cell_type": "code",
   "execution_count": 136,
   "metadata": {
    "collapsed": true
   },
   "outputs": [],
   "source": [
    "def get_bike_paths(df, bike_id, client):\n",
    "    feature_list = []\n",
    "    for row in df[df['bikeid'] == bike_id].iterrows():\n",
    "        trip = row[1]\n",
    "        path = get_path([trip['start station latitude'], trip['start station longitude']],\n",
    "                        [trip['end station latitude'], trip['end station longitude']],\n",
    "                        client)\n",
    "        feature = geojson.Feature(geometry=geojson.LineString(path, properties=trip.to_dict()))\n",
    "        feature_list.append(feature)\n",
    "    return geojson.FeatureCollection(feature_list, properties={'bike_id': bike_id})"
   ]
  },
  {
   "cell_type": "markdown",
   "metadata": {},
   "source": [
    "For now I'm working with only a single sample. Once I can verify that this sample works and get the frontend working around it, I can extend the method above to calling it on every bike in our sample dataset and extend the visualization around all of the samples."
   ]
  },
  {
   "cell_type": "code",
   "execution_count": 137,
   "metadata": {
    "collapsed": false
   },
   "outputs": [],
   "source": [
    "one_feature_collection = get_bike_paths(sample_trips, 23367.0, gmaps)"
   ]
  },
  {
   "cell_type": "code",
   "execution_count": 141,
   "metadata": {
    "collapsed": false,
    "scrolled": true
   },
   "outputs": [],
   "source": [
    "with open('one_trip.geojson', 'w') as outfile:\n",
    "    outfile.write(geojson.dumps(one_feature_collection))"
   ]
  },
  {
   "cell_type": "code",
   "execution_count": 143,
   "metadata": {
    "collapsed": false
   },
   "outputs": [
    {
     "name": "stdout",
     "output_type": "stream",
     "text": [
      " Volume in drive C is SSD_80GB\n",
      " Volume Serial Number is 9279-00B2\n",
      "\n",
      " Directory of C:\\Users\\Alex\\Desktop\\citibike\n",
      "\n",
      "04/27/2016  05:11 PM    <DIR>          .\n",
      "04/27/2016  05:11 PM    <DIR>          ..\n",
      "04/26/2016  09:59 PM                45 .gitignore\n",
      "04/26/2016  09:34 PM    <DIR>          .ipynb_checkpoints\n",
      "04/27/2016  05:11 PM            12,210 further-parsing.ipynb\n",
      "04/26/2016  07:31 PM                56 google_maps_api_key.json\n",
      "04/26/2016  09:39 PM            60,512 initial-parsing.ipynb\n",
      "04/27/2016  05:12 PM           127,518 one_trip.geojson\n",
      "04/26/2016  09:37 PM            43,030 sample_trips.csv\n",
      "04/27/2016  03:09 PM            13,266 _map.html\n",
      "               7 File(s)        256,637 bytes\n",
      "               3 Dir(s)  10,286,772,224 bytes free\n"
     ]
    }
   ],
   "source": [
    "!dir"
   ]
  }
 ],
 "metadata": {
  "kernelspec": {
   "display_name": "Python 3",
   "language": "python",
   "name": "python3"
  },
  "language_info": {
   "codemirror_mode": {
    "name": "ipython",
    "version": 3
   },
   "file_extension": ".py",
   "mimetype": "text/x-python",
   "name": "python",
   "nbconvert_exporter": "python",
   "pygments_lexer": "ipython3",
   "version": "3.5.1"
  }
 },
 "nbformat": 4,
 "nbformat_minor": 0
}
